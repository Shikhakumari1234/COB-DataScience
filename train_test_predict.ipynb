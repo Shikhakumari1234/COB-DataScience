{
 "cells": [
  {
   "cell_type": "code",
   "execution_count": 21,
   "id": "ab04f80a-0b41-4fab-aaed-1f990cf0c598",
   "metadata": {},
   "outputs": [],
   "source": [
    "import pandas as pd\n",
    "from sklearn.linear_model import LinearRegression\n",
    "from sklearn.impute import SimpleImputer\n"
   ]
  },
  {
   "cell_type": "code",
   "execution_count": 22,
   "id": "8da0c9b3-d518-466d-bcb8-19e36d39d0cd",
   "metadata": {},
   "outputs": [],
   "source": [
    "train_data = pd.read_csv(\"train dataset.csv\")\n",
    "test_data = pd.read_csv(\"test dataset.csv\")\n"
   ]
  },
  {
   "cell_type": "code",
   "execution_count": 23,
   "id": "f6869992-9635-4c88-8088-7ffa768152c4",
   "metadata": {},
   "outputs": [],
   "source": [
    "if train_data['y'].isnull().any():\n",
    "    # Handle missing values in the \"y\" column\n",
    "    imputer = SimpleImputer(strategy='mean')\n",
    "    train_data['y'] = imputer.fit_transform(train_data[['y']])"
   ]
  },
  {
   "cell_type": "code",
   "execution_count": 24,
   "id": "237965b7-ef2e-45da-a285-0d9af7f242a1",
   "metadata": {},
   "outputs": [],
   "source": [
    "X_train = train_data['x'].values.reshape(-1, 1)\n",
    "y_train = train_data['y'].values\n"
   ]
  },
  {
   "cell_type": "code",
   "execution_count": 25,
   "id": "c3aa2f39-3f1d-440b-865b-3d11b3dc9740",
   "metadata": {},
   "outputs": [],
   "source": [
    "X_test = test_data['x'].values.reshape(-1, 1)\n"
   ]
  },
  {
   "cell_type": "code",
   "execution_count": 26,
   "id": "e5284011-d056-48e6-be88-92b43b49933c",
   "metadata": {},
   "outputs": [
    {
     "data": {
      "text/html": [
       "<style>#sk-container-id-1 {color: black;}#sk-container-id-1 pre{padding: 0;}#sk-container-id-1 div.sk-toggleable {background-color: white;}#sk-container-id-1 label.sk-toggleable__label {cursor: pointer;display: block;width: 100%;margin-bottom: 0;padding: 0.3em;box-sizing: border-box;text-align: center;}#sk-container-id-1 label.sk-toggleable__label-arrow:before {content: \"▸\";float: left;margin-right: 0.25em;color: #696969;}#sk-container-id-1 label.sk-toggleable__label-arrow:hover:before {color: black;}#sk-container-id-1 div.sk-estimator:hover label.sk-toggleable__label-arrow:before {color: black;}#sk-container-id-1 div.sk-toggleable__content {max-height: 0;max-width: 0;overflow: hidden;text-align: left;background-color: #f0f8ff;}#sk-container-id-1 div.sk-toggleable__content pre {margin: 0.2em;color: black;border-radius: 0.25em;background-color: #f0f8ff;}#sk-container-id-1 input.sk-toggleable__control:checked~div.sk-toggleable__content {max-height: 200px;max-width: 100%;overflow: auto;}#sk-container-id-1 input.sk-toggleable__control:checked~label.sk-toggleable__label-arrow:before {content: \"▾\";}#sk-container-id-1 div.sk-estimator input.sk-toggleable__control:checked~label.sk-toggleable__label {background-color: #d4ebff;}#sk-container-id-1 div.sk-label input.sk-toggleable__control:checked~label.sk-toggleable__label {background-color: #d4ebff;}#sk-container-id-1 input.sk-hidden--visually {border: 0;clip: rect(1px 1px 1px 1px);clip: rect(1px, 1px, 1px, 1px);height: 1px;margin: -1px;overflow: hidden;padding: 0;position: absolute;width: 1px;}#sk-container-id-1 div.sk-estimator {font-family: monospace;background-color: #f0f8ff;border: 1px dotted black;border-radius: 0.25em;box-sizing: border-box;margin-bottom: 0.5em;}#sk-container-id-1 div.sk-estimator:hover {background-color: #d4ebff;}#sk-container-id-1 div.sk-parallel-item::after {content: \"\";width: 100%;border-bottom: 1px solid gray;flex-grow: 1;}#sk-container-id-1 div.sk-label:hover label.sk-toggleable__label {background-color: #d4ebff;}#sk-container-id-1 div.sk-serial::before {content: \"\";position: absolute;border-left: 1px solid gray;box-sizing: border-box;top: 0;bottom: 0;left: 50%;z-index: 0;}#sk-container-id-1 div.sk-serial {display: flex;flex-direction: column;align-items: center;background-color: white;padding-right: 0.2em;padding-left: 0.2em;position: relative;}#sk-container-id-1 div.sk-item {position: relative;z-index: 1;}#sk-container-id-1 div.sk-parallel {display: flex;align-items: stretch;justify-content: center;background-color: white;position: relative;}#sk-container-id-1 div.sk-item::before, #sk-container-id-1 div.sk-parallel-item::before {content: \"\";position: absolute;border-left: 1px solid gray;box-sizing: border-box;top: 0;bottom: 0;left: 50%;z-index: -1;}#sk-container-id-1 div.sk-parallel-item {display: flex;flex-direction: column;z-index: 1;position: relative;background-color: white;}#sk-container-id-1 div.sk-parallel-item:first-child::after {align-self: flex-end;width: 50%;}#sk-container-id-1 div.sk-parallel-item:last-child::after {align-self: flex-start;width: 50%;}#sk-container-id-1 div.sk-parallel-item:only-child::after {width: 0;}#sk-container-id-1 div.sk-dashed-wrapped {border: 1px dashed gray;margin: 0 0.4em 0.5em 0.4em;box-sizing: border-box;padding-bottom: 0.4em;background-color: white;}#sk-container-id-1 div.sk-label label {font-family: monospace;font-weight: bold;display: inline-block;line-height: 1.2em;}#sk-container-id-1 div.sk-label-container {text-align: center;}#sk-container-id-1 div.sk-container {/* jupyter's `normalize.less` sets `[hidden] { display: none; }` but bootstrap.min.css set `[hidden] { display: none !important; }` so we also need the `!important` here to be able to override the default hidden behavior on the sphinx rendered scikit-learn.org. See: https://github.com/scikit-learn/scikit-learn/issues/21755 */display: inline-block !important;position: relative;}#sk-container-id-1 div.sk-text-repr-fallback {display: none;}</style><div id=\"sk-container-id-1\" class=\"sk-top-container\"><div class=\"sk-text-repr-fallback\"><pre>LinearRegression()</pre><b>In a Jupyter environment, please rerun this cell to show the HTML representation or trust the notebook. <br />On GitHub, the HTML representation is unable to render, please try loading this page with nbviewer.org.</b></div><div class=\"sk-container\" hidden><div class=\"sk-item\"><div class=\"sk-estimator sk-toggleable\"><input class=\"sk-toggleable__control sk-hidden--visually\" id=\"sk-estimator-id-1\" type=\"checkbox\" checked><label for=\"sk-estimator-id-1\" class=\"sk-toggleable__label sk-toggleable__label-arrow\">LinearRegression</label><div class=\"sk-toggleable__content\"><pre>LinearRegression()</pre></div></div></div></div></div>"
      ],
      "text/plain": [
       "LinearRegression()"
      ]
     },
     "execution_count": 26,
     "metadata": {},
     "output_type": "execute_result"
    }
   ],
   "source": [
    "model = LinearRegression()\n",
    "model.fit(X_train, y_train)"
   ]
  },
  {
   "cell_type": "code",
   "execution_count": 27,
   "id": "64bd2874-a8c4-4576-95c9-beae86795f60",
   "metadata": {},
   "outputs": [],
   "source": [
    "y_pred = model.predict(X_test)\n"
   ]
  },
  {
   "cell_type": "code",
   "execution_count": 29,
   "id": "a7186b9a-eb53-4053-a47c-d916518b5965",
   "metadata": {
    "scrolled": true
   },
   "outputs": [
    {
     "name": "stdout",
     "output_type": "stream",
     "text": [
      "Predicted y values for the test data:\n",
      "[50.95653945 48.37030441 48.41648718 48.32412164 49.06304594 48.0932078\n",
      " 50.26379792 51.78782928 48.32412164 47.63138011 47.58519734 48.27793887\n",
      " 51.83401205 50.26379792 49.06304594 48.0932078  50.40234623 48.04702503\n",
      " 51.41836714 50.5870773  51.51073267 49.75578747 51.51073267 48.64740102\n",
      " 51.88019482 50.07906685 51.04890499 48.37030441 51.69546375 48.64740102\n",
      " 51.97256036 48.8321321  48.92449763 51.09508776 48.69358379 49.57105639\n",
      " 49.848153   50.5870773  48.69358379 48.92449763 51.60309821 50.67944284\n",
      " 49.7096047  50.91035668 47.58519734 49.10922871 50.63326007 50.54089453\n",
      " 49.24777701 49.01686317 51.74164652 51.4645499  49.80197024 48.8321321\n",
      " 50.12524962 47.40046627 49.20159424 50.35616346 50.5870773  50.03288408\n",
      " 48.00084226 50.72562561 50.91035668 50.21761515 51.18745329 48.2317561\n",
      " 49.29395978 49.7096047  49.94051854 48.00084226 49.52487362 48.00084226\n",
      " 51.04890499 49.848153   48.0932078  48.69358379 51.14127052 50.5870773\n",
      " 49.80197024 51.27981883 50.54089453 48.64740102 49.98670131 49.61723916\n",
      " 49.24777701 49.20159424 51.18745329 52.01874313 50.12524962 49.38632532\n",
      " 50.49471176 49.15541148 50.30998069 51.60309821 50.17143238 48.04702503\n",
      " 48.37030441 51.41836714 50.77180838 48.87831486 47.49283181 51.18745329\n",
      " 48.27793887 50.81799114 49.34014255 47.95465949 47.44664904 51.55691544\n",
      " 51.51073267 47.40046627 49.29395978 48.13939057 51.74164652 51.88019482\n",
      " 50.448529   48.50885272 48.18557334 51.55691544 48.00084226 47.40046627\n",
      " 50.35616346 51.83401205 51.92637759 47.95465949 49.29395978 49.57105639\n",
      " 51.00272222 48.32412164 51.51073267 48.73976656 50.35616346 50.86417391\n",
      " 47.95465949 48.55503548 48.69358379 48.78594933 50.40234623 50.12524962\n",
      " 50.35616346 49.848153   50.67944284 51.88019482 50.77180838 47.81611119\n",
      " 47.95465949 50.30998069 51.97256036 50.17143238 49.01686317 47.49283181\n",
      " 50.17143238 48.87831486 51.74164652 51.27981883 50.30998069 48.41648718\n",
      " 51.14127052 51.69546375 48.92449763 47.72374565 49.34014255 49.52487362\n",
      " 49.89433577 48.13939057 49.66342193 49.38632532 51.78782928 50.448529\n",
      " 48.37030441 49.01686317 51.09508776 49.10922871 49.89433577 49.98670131\n",
      " 47.44664904 48.87831486 50.07906685 48.87831486 49.52487362 50.72562561\n",
      " 48.18557334 51.88019482 51.69546375 51.60309821 49.10922871 47.58519734\n",
      " 49.89433577 49.75578747 48.64740102 49.52487362 51.64928098 50.77180838\n",
      " 50.95653945 51.60309821 50.21761515 51.97256036 47.58519734 50.72562561\n",
      " 48.27793887 50.03288408 51.00272222 48.60121825 50.81799114 51.55691544\n",
      " 50.448529   48.00084226 49.24777701 50.95653945 50.49471176 50.86417391\n",
      " 48.46266995 49.47869086 50.12524962 49.43250809 48.46266995 49.94051854\n",
      " 49.94051854 51.78782928 47.95465949 47.58519734 47.72374565 52.01874313\n",
      " 49.61723916 49.34014255 51.83401205 49.20159424 52.01874313 51.41836714\n",
      " 48.04702503 48.04702503 49.10922871 47.63138011 51.4645499  51.60309821\n",
      " 50.40234623 50.81799114 49.98670131 48.13939057 47.63138011 48.69358379\n",
      " 51.64928098 49.52487362 49.89433577 49.20159424 49.43250809 48.8321321\n",
      " 50.54089453 51.37218437 51.55691544 49.15541148 48.37030441 51.78782928\n",
      " 49.98670131 50.17143238 50.40234623 51.00272222 51.51073267 47.67756288\n",
      " 50.49471176 49.06304594 48.13939057 52.01874313 49.47869086 50.77180838\n",
      " 50.03288408 48.32412164 50.91035668 48.9706804  49.94051854 50.72562561\n",
      " 49.94051854 47.76992842 49.98670131 50.72562561 50.07906685 47.67756288\n",
      " 51.83401205 48.46266995 50.07906685 48.46266995 48.27793887 48.55503548\n",
      " 50.35616346 48.37030441 50.12524962 48.27793887 48.13939057 49.34014255\n",
      " 49.38632532 50.21761515 51.64928098 47.90847672 49.29395978 47.44664904\n",
      " 47.76992842 50.67944284 49.52487362 49.94051854 50.26379792 49.57105639]\n"
     ]
    }
   ],
   "source": [
    "print(\"Predicted y values for the test data:\")\n",
    "print(y_pred)"
   ]
  },
  {
   "cell_type": "code",
   "execution_count": 30,
   "id": "093f62cb-4bb7-44cf-88d7-e4b36c579761",
   "metadata": {},
   "outputs": [
    {
     "name": "stdout",
     "output_type": "stream",
     "text": [
      "Predicted y for x = 66: 50.44852899611243\n"
     ]
    }
   ],
   "source": [
    "x_to_predict = [[66]]  # Reshape to match the input shape of the model\n",
    "predicted_y = model.predict(x_to_predict)\n",
    "\n",
    "print(f\"Predicted y for x = 66: {predicted_y[0]}\")\n"
   ]
  },
  {
   "cell_type": "code",
   "execution_count": null,
   "id": "d1f8c833-5587-4a82-bb2a-84387e975331",
   "metadata": {},
   "outputs": [],
   "source": []
  }
 ],
 "metadata": {
  "kernelspec": {
   "display_name": "Python 3 (ipykernel)",
   "language": "python",
   "name": "python3"
  },
  "language_info": {
   "codemirror_mode": {
    "name": "ipython",
    "version": 3
   },
   "file_extension": ".py",
   "mimetype": "text/x-python",
   "name": "python",
   "nbconvert_exporter": "python",
   "pygments_lexer": "ipython3",
   "version": "3.11.4"
  }
 },
 "nbformat": 4,
 "nbformat_minor": 5
}
